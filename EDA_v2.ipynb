{
 "cells": [
  {
   "attachments": {},
   "cell_type": "markdown",
   "metadata": {},
   "source": [
    "- Objective: find stores in Pittsburgh that don't offer SNAP\n",
    "\n",
    "- Input files: 1) snap_stores.csv 2) pgh_stores.csv\n",
    "\n",
    "- Process: convert all store names to lower case in both datasets. find pittsburgh stores that are not in SNAP stores. create a set of these stores to get unique store names. \n",
    "\n",
    "- Findings: there are 917 SNAP stores and 123 stores in pittsburgh. out of the 123, there are 116 that don't offer SNAP. the next step is to visualize the locations of these stores and see if they are in proximity to snap beneficiaries - if yes, then there's a strong case for making these stores offer SNAP benefits."
   ]
  },
  {
   "cell_type": "code",
   "execution_count": 59,
   "metadata": {},
   "outputs": [
    {
     "data": {
      "text/html": [
       "<div>\n",
       "<style scoped>\n",
       "    .dataframe tbody tr th:only-of-type {\n",
       "        vertical-align: middle;\n",
       "    }\n",
       "\n",
       "    .dataframe tbody tr th {\n",
       "        vertical-align: top;\n",
       "    }\n",
       "\n",
       "    .dataframe thead th {\n",
       "        text-align: right;\n",
       "    }\n",
       "</style>\n",
       "<table border=\"1\" class=\"dataframe\">\n",
       "  <thead>\n",
       "    <tr style=\"text-align: right;\">\n",
       "      <th></th>\n",
       "      <th>X</th>\n",
       "      <th>Y</th>\n",
       "      <th>Store_Name</th>\n",
       "      <th>Address</th>\n",
       "      <th>Address_Line__2</th>\n",
       "      <th>City</th>\n",
       "      <th>State</th>\n",
       "      <th>Zip5</th>\n",
       "      <th>County</th>\n",
       "      <th>Longitude</th>\n",
       "      <th>Latitude</th>\n",
       "      <th>ObjectId</th>\n",
       "    </tr>\n",
       "  </thead>\n",
       "  <tbody>\n",
       "    <tr>\n",
       "      <th>0</th>\n",
       "      <td>-79.812576</td>\n",
       "      <td>40.502525</td>\n",
       "      <td>K &amp; G Supermart</td>\n",
       "      <td>1043 Hamil Rd</td>\n",
       "      <td>NaN</td>\n",
       "      <td>Verona</td>\n",
       "      <td>PA</td>\n",
       "      <td>15147</td>\n",
       "      <td>ALLEGHENY</td>\n",
       "      <td>-79.812576</td>\n",
       "      <td>40.502525</td>\n",
       "      <td>350</td>\n",
       "    </tr>\n",
       "    <tr>\n",
       "      <th>1</th>\n",
       "      <td>-79.789886</td>\n",
       "      <td>40.499241</td>\n",
       "      <td>Family Dollar 8406</td>\n",
       "      <td>1122 Milltown Rd</td>\n",
       "      <td>NaN</td>\n",
       "      <td>Verona</td>\n",
       "      <td>PA</td>\n",
       "      <td>15147</td>\n",
       "      <td>ALLEGHENY</td>\n",
       "      <td>-79.789886</td>\n",
       "      <td>40.499241</td>\n",
       "      <td>351</td>\n",
       "    </tr>\n",
       "    <tr>\n",
       "      <th>2</th>\n",
       "      <td>-79.789368</td>\n",
       "      <td>40.498741</td>\n",
       "      <td>Dollar General 22867</td>\n",
       "      <td>1108 Milltown Rd</td>\n",
       "      <td>NaN</td>\n",
       "      <td>Verona</td>\n",
       "      <td>PA</td>\n",
       "      <td>15147</td>\n",
       "      <td>ALLEGHENY</td>\n",
       "      <td>-79.789368</td>\n",
       "      <td>40.498741</td>\n",
       "      <td>352</td>\n",
       "    </tr>\n",
       "    <tr>\n",
       "      <th>3</th>\n",
       "      <td>-79.818901</td>\n",
       "      <td>40.484097</td>\n",
       "      <td>7-Eleven Store 36205</td>\n",
       "      <td>6106 Saltsburg Rd</td>\n",
       "      <td>NaN</td>\n",
       "      <td>Verona</td>\n",
       "      <td>PA</td>\n",
       "      <td>15147</td>\n",
       "      <td>ALLEGHENY</td>\n",
       "      <td>-79.818901</td>\n",
       "      <td>40.484097</td>\n",
       "      <td>353</td>\n",
       "    </tr>\n",
       "    <tr>\n",
       "      <th>4</th>\n",
       "      <td>-79.814064</td>\n",
       "      <td>40.521042</td>\n",
       "      <td>7-Eleven 40288</td>\n",
       "      <td>2000 Eastern Ave</td>\n",
       "      <td>NaN</td>\n",
       "      <td>Verona</td>\n",
       "      <td>PA</td>\n",
       "      <td>15147</td>\n",
       "      <td>ALLEGHENY</td>\n",
       "      <td>-79.814064</td>\n",
       "      <td>40.521042</td>\n",
       "      <td>354</td>\n",
       "    </tr>\n",
       "  </tbody>\n",
       "</table>\n",
       "</div>"
      ],
      "text/plain": [
       "           X          Y            Store_Name            Address  \\\n",
       "0 -79.812576  40.502525       K & G Supermart      1043 Hamil Rd   \n",
       "1 -79.789886  40.499241    Family Dollar 8406   1122 Milltown Rd   \n",
       "2 -79.789368  40.498741  Dollar General 22867   1108 Milltown Rd   \n",
       "3 -79.818901  40.484097  7-Eleven Store 36205  6106 Saltsburg Rd   \n",
       "4 -79.814064  40.521042        7-Eleven 40288   2000 Eastern Ave   \n",
       "\n",
       "  Address_Line__2    City State   Zip5     County  Longitude   Latitude  \\\n",
       "0             NaN  Verona    PA  15147  ALLEGHENY -79.812576  40.502525   \n",
       "1             NaN  Verona    PA  15147  ALLEGHENY -79.789886  40.499241   \n",
       "2             NaN  Verona    PA  15147  ALLEGHENY -79.789368  40.498741   \n",
       "3             NaN  Verona    PA  15147  ALLEGHENY -79.818901  40.484097   \n",
       "4             NaN  Verona    PA  15147  ALLEGHENY -79.814064  40.521042   \n",
       "\n",
       "   ObjectId  \n",
       "0       350  \n",
       "1       351  \n",
       "2       352  \n",
       "3       353  \n",
       "4       354  "
      ]
     },
     "execution_count": 59,
     "metadata": {},
     "output_type": "execute_result"
    }
   ],
   "source": [
    "snap_stores = pd.read_csv('SNAP_Store_Locations.csv')\n",
    "snap_stores.head()"
   ]
  },
  {
   "cell_type": "code",
   "execution_count": 60,
   "metadata": {},
   "outputs": [
    {
     "data": {
      "text/html": [
       "<div>\n",
       "<style scoped>\n",
       "    .dataframe tbody tr th:only-of-type {\n",
       "        vertical-align: middle;\n",
       "    }\n",
       "\n",
       "    .dataframe tbody tr th {\n",
       "        vertical-align: top;\n",
       "    }\n",
       "\n",
       "    .dataframe thead th {\n",
       "        text-align: right;\n",
       "    }\n",
       "</style>\n",
       "<table border=\"1\" class=\"dataframe\">\n",
       "  <thead>\n",
       "    <tr style=\"text-align: right;\">\n",
       "      <th></th>\n",
       "      <th>name</th>\n",
       "      <th>street_address</th>\n",
       "      <th>city</th>\n",
       "      <th>state</th>\n",
       "      <th>zip_code</th>\n",
       "      <th>latitude</th>\n",
       "      <th>longitude</th>\n",
       "      <th>localizability</th>\n",
       "      <th>data_source_name</th>\n",
       "      <th>data_source_url</th>\n",
       "      <th>primary_key_from_rocket</th>\n",
       "      <th>asset_type</th>\n",
       "    </tr>\n",
       "  </thead>\n",
       "  <tbody>\n",
       "    <tr>\n",
       "      <th>0</th>\n",
       "      <td>Kuhn's Market</td>\n",
       "      <td>661 Lincoln Ave</td>\n",
       "      <td>Pittsburgh</td>\n",
       "      <td>PA</td>\n",
       "      <td>15202</td>\n",
       "      <td>40.497162</td>\n",
       "      <td>-80.060279</td>\n",
       "      <td>fixed</td>\n",
       "      <td>WPRDC Dataset: Allegheny County Restaurant/Foo...</td>\n",
       "      <td>https://data.wprdc.org/dataset/allegheny-count...</td>\n",
       "      <td>36519</td>\n",
       "      <td>supermarkets</td>\n",
       "    </tr>\n",
       "    <tr>\n",
       "      <th>1</th>\n",
       "      <td>Food Shoppe</td>\n",
       "      <td>5878 Northumberland  Street</td>\n",
       "      <td>Pittsburgh</td>\n",
       "      <td>PA</td>\n",
       "      <td>15217</td>\n",
       "      <td>40.441561</td>\n",
       "      <td>-79.920536</td>\n",
       "      <td>fixed</td>\n",
       "      <td>WPRDC Dataset: Allegheny County Restaurant/Foo...</td>\n",
       "      <td>https://data.wprdc.org/dataset/allegheny-count...</td>\n",
       "      <td>36498</td>\n",
       "      <td>supermarkets</td>\n",
       "    </tr>\n",
       "    <tr>\n",
       "      <th>2</th>\n",
       "      <td>Shop 'n Save / Shaler</td>\n",
       "      <td>1620 Babcock  Boulevard</td>\n",
       "      <td>Pittsburgh</td>\n",
       "      <td>PA</td>\n",
       "      <td>15209</td>\n",
       "      <td>40.499147</td>\n",
       "      <td>-79.978901</td>\n",
       "      <td>fixed</td>\n",
       "      <td>WPRDC Dataset: Allegheny County Restaurant/Foo...</td>\n",
       "      <td>https://data.wprdc.org/dataset/allegheny-count...</td>\n",
       "      <td>32725</td>\n",
       "      <td>supermarkets</td>\n",
       "    </tr>\n",
       "    <tr>\n",
       "      <th>3</th>\n",
       "      <td>Giant Eagle #61</td>\n",
       "      <td>2021 Wharton  Street</td>\n",
       "      <td>Pittsburgh</td>\n",
       "      <td>PA</td>\n",
       "      <td>15203</td>\n",
       "      <td>40.431132</td>\n",
       "      <td>-79.976607</td>\n",
       "      <td>fixed</td>\n",
       "      <td>WPRDC Dataset: Allegheny County Restaurant/Foo...</td>\n",
       "      <td>https://data.wprdc.org/dataset/allegheny-count...</td>\n",
       "      <td>38879</td>\n",
       "      <td>supermarkets</td>\n",
       "    </tr>\n",
       "    <tr>\n",
       "      <th>4</th>\n",
       "      <td>Safrans Market</td>\n",
       "      <td>429 Walnut Street</td>\n",
       "      <td>Sewickley</td>\n",
       "      <td>PA</td>\n",
       "      <td>15143</td>\n",
       "      <td>40.541039</td>\n",
       "      <td>-80.182262</td>\n",
       "      <td>fixed</td>\n",
       "      <td>WPRDC Dataset: Allegheny County Restaurant/Foo...</td>\n",
       "      <td>https://data.wprdc.org/dataset/allegheny-count...</td>\n",
       "      <td>30265</td>\n",
       "      <td>supermarkets</td>\n",
       "    </tr>\n",
       "  </tbody>\n",
       "</table>\n",
       "</div>"
      ],
      "text/plain": [
       "                    name               street_address        city state  \\\n",
       "0          Kuhn's Market              661 Lincoln Ave  Pittsburgh    PA   \n",
       "1            Food Shoppe  5878 Northumberland  Street  Pittsburgh    PA   \n",
       "2  Shop 'n Save / Shaler      1620 Babcock  Boulevard  Pittsburgh    PA   \n",
       "3        Giant Eagle #61         2021 Wharton  Street  Pittsburgh    PA   \n",
       "4         Safrans Market            429 Walnut Street   Sewickley    PA   \n",
       "\n",
       "   zip_code   latitude  longitude localizability  \\\n",
       "0     15202  40.497162 -80.060279          fixed   \n",
       "1     15217  40.441561 -79.920536          fixed   \n",
       "2     15209  40.499147 -79.978901          fixed   \n",
       "3     15203  40.431132 -79.976607          fixed   \n",
       "4     15143  40.541039 -80.182262          fixed   \n",
       "\n",
       "                                    data_source_name  \\\n",
       "0  WPRDC Dataset: Allegheny County Restaurant/Foo...   \n",
       "1  WPRDC Dataset: Allegheny County Restaurant/Foo...   \n",
       "2  WPRDC Dataset: Allegheny County Restaurant/Foo...   \n",
       "3  WPRDC Dataset: Allegheny County Restaurant/Foo...   \n",
       "4  WPRDC Dataset: Allegheny County Restaurant/Foo...   \n",
       "\n",
       "                                     data_source_url  primary_key_from_rocket  \\\n",
       "0  https://data.wprdc.org/dataset/allegheny-count...                    36519   \n",
       "1  https://data.wprdc.org/dataset/allegheny-count...                    36498   \n",
       "2  https://data.wprdc.org/dataset/allegheny-count...                    32725   \n",
       "3  https://data.wprdc.org/dataset/allegheny-count...                    38879   \n",
       "4  https://data.wprdc.org/dataset/allegheny-count...                    30265   \n",
       "\n",
       "     asset_type  \n",
       "0  supermarkets  \n",
       "1  supermarkets  \n",
       "2  supermarkets  \n",
       "3  supermarkets  \n",
       "4  supermarkets  "
      ]
     },
     "execution_count": 60,
     "metadata": {},
     "output_type": "execute_result"
    }
   ],
   "source": [
    "pgh_stores = pd.read_csv('PGH_supermarkets.csv')\n",
    "pgh_stores.head()"
   ]
  },
  {
   "cell_type": "code",
   "execution_count": 61,
   "metadata": {},
   "outputs": [],
   "source": [
    "# snap_stores.drop(columns=['Match'],inplace=True)"
   ]
  },
  {
   "cell_type": "code",
   "execution_count": 62,
   "metadata": {},
   "outputs": [],
   "source": [
    "# values = set(pgh_stores['name'].lower())\n",
    "\n",
    "# snap_stores['Match'] = snap_stores['Store_Name'].lower().isin(values)\n",
    "# snap_stores['Match'].value_counts()\n",
    "\n",
    "\n",
    "#create new columns with all lower case store names in both datasets\n",
    "snap_stores['store_snap'] = snap_stores['Store_Name'].str.lower()\n",
    "pgh_stores['store_pgh'] = pgh_stores['name'].str.lower()"
   ]
  },
  {
   "cell_type": "code",
   "execution_count": 81,
   "metadata": {},
   "outputs": [
    {
     "data": {
      "text/plain": [
       "123"
      ]
     },
     "execution_count": 81,
     "metadata": {},
     "output_type": "execute_result"
    }
   ],
   "source": [
    "#find total unique stores in pittsburgh\n",
    "pgh_stores_list = set(list(pgh_stores.store_pgh))\n",
    "len(pgh_stores_list)"
   ]
  },
  {
   "cell_type": "code",
   "execution_count": 63,
   "metadata": {},
   "outputs": [
    {
     "data": {
      "text/plain": [
       "False    121\n",
       "True      12\n",
       "Name: store_pgh_snap, dtype: int64"
      ]
     },
     "execution_count": 63,
     "metadata": {},
     "output_type": "execute_result"
    }
   ],
   "source": [
    "#snap_stores['store_snap'].value_counts()\n",
    "\n",
    "#find out how many pittsburgh stores are in snap stores df\n",
    "pgh_stores['store_pgh_snap'] = pgh_stores['store_pgh'].isin(set(snap_stores['store_snap']))\n",
    "pgh_stores['store_pgh_snap'].value_counts() \n",
    "\n",
    "#there are 12 stores in pittsburgh that are in snap stores df - these don't add up to 123 because there are duplicates (one store - multiple locations)"
   ]
  },
  {
   "cell_type": "code",
   "execution_count": 89,
   "metadata": {},
   "outputs": [],
   "source": [
    "# #df of pittsburgh stores in snap stores\n",
    "# pgh_stores[pgh_stores['store_pgh_snap'] == True]"
   ]
  },
  {
   "cell_type": "code",
   "execution_count": null,
   "metadata": {},
   "outputs": [],
   "source": [
    "#pgh_stores[pgh_stores['store_pgh_snap'] == 1]\n",
    "\n",
    "#generate list of pgh stores that are NOT snap\n",
    "pgh_stores_notsnap = pgh_stores[pgh_stores['store_pgh_snap'] == 0]\n",
    "pgh_stores_notsnap.drop(pgh_stores.columns.difference(['store_pgh']), 1, inplace=True)"
   ]
  },
  {
   "cell_type": "code",
   "execution_count": 78,
   "metadata": {},
   "outputs": [
    {
     "data": {
      "text/plain": [
       "116"
      ]
     },
     "execution_count": 78,
     "metadata": {},
     "output_type": "execute_result"
    }
   ],
   "source": [
    "#create a list of above, convert to set to get unique stores in pittsburgh that are not SNAP\n",
    "pgh_stores_notsnap_list = set(list(pgh_stores_notsnap.store_pgh))\n",
    "len(pgh_stores_notsnap_list)"
   ]
  },
  {
   "cell_type": "code",
   "execution_count": 90,
   "metadata": {},
   "outputs": [
    {
     "name": "stderr",
     "output_type": "stream",
     "text": [
      "C:\\Users\\mahru\\AppData\\Local\\Temp\\ipykernel_22616\\3370884206.py:2: FutureWarning: In a future version of pandas all arguments of DataFrame.drop except for the argument 'labels' will be keyword-only.\n",
      "  snap_stores.drop(snap_stores.columns.difference(['store_snap']), 1, inplace=True)\n"
     ]
    },
    {
     "data": {
      "text/plain": [
       "917"
      ]
     },
     "execution_count": 90,
     "metadata": {},
     "output_type": "execute_result"
    }
   ],
   "source": [
    "#get a list of unique snap stores\n",
    "snap_stores.drop(snap_stores.columns.difference(['store_snap']), 1, inplace=True)\n",
    "snap_stores_list = set(list(snap_stores.store_snap))\n",
    "len(snap_stores_list)"
   ]
  }
 ],
 "metadata": {
  "kernelspec": {
   "display_name": "base",
   "language": "python",
   "name": "python3"
  },
  "language_info": {
   "codemirror_mode": {
    "name": "ipython",
    "version": 3
   },
   "file_extension": ".py",
   "mimetype": "text/x-python",
   "name": "python",
   "nbconvert_exporter": "python",
   "pygments_lexer": "ipython3",
   "version": "3.9.13"
  },
  "orig_nbformat": 4
 },
 "nbformat": 4,
 "nbformat_minor": 2
}
