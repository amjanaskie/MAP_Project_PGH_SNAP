{
 "cells": [
  {
   "attachments": {},
   "cell_type": "markdown",
   "metadata": {},
   "source": [
    "- Objective: find stores in Pittsburgh that don't offer SNAP\n",
    "\n",
    "- Input files: 1) snap_stores.csv 2) pgh_stores.csv\n",
    "\n",
    "- Process: convert all store names to lower case in both datasets. find pittsburgh stores that are not in SNAP stores. create a set of these stores to get unique store names. \n",
    "\n",
    "- Findings: there are 917 SNAP stores and 123 stores in pittsburgh. out of the 123, there are 116 that don't offer SNAP. the next step is to visualize the locations of these stores and see if they are in proximity to snap beneficiaries - if yes, then there's a strong case for making these stores offer SNAP benefits."
   ]
  },
  {
   "cell_type": "code",
   "execution_count": 20,
   "metadata": {},
   "outputs": [],
   "source": [
    "import pandas as pd"
   ]
  },
  {
   "cell_type": "code",
   "execution_count": 21,
   "metadata": {},
   "outputs": [
    {
     "data": {
      "text/html": [
       "<div>\n",
       "<style scoped>\n",
       "    .dataframe tbody tr th:only-of-type {\n",
       "        vertical-align: middle;\n",
       "    }\n",
       "\n",
       "    .dataframe tbody tr th {\n",
       "        vertical-align: top;\n",
       "    }\n",
       "\n",
       "    .dataframe thead th {\n",
       "        text-align: right;\n",
       "    }\n",
       "</style>\n",
       "<table border=\"1\" class=\"dataframe\">\n",
       "  <thead>\n",
       "    <tr style=\"text-align: right;\">\n",
       "      <th></th>\n",
       "      <th>X</th>\n",
       "      <th>Y</th>\n",
       "      <th>Store_Name</th>\n",
       "      <th>Address</th>\n",
       "      <th>Address_Line__2</th>\n",
       "      <th>City</th>\n",
       "      <th>State</th>\n",
       "      <th>Zip5</th>\n",
       "      <th>County</th>\n",
       "      <th>Longitude</th>\n",
       "      <th>Latitude</th>\n",
       "      <th>ObjectId</th>\n",
       "    </tr>\n",
       "  </thead>\n",
       "  <tbody>\n",
       "    <tr>\n",
       "      <th>924</th>\n",
       "      <td>-79.908386</td>\n",
       "      <td>40.408356</td>\n",
       "      <td>DOLLAR GENERAL  9694</td>\n",
       "      <td>325 E 8th Ave</td>\n",
       "      <td>NaN</td>\n",
       "      <td>Homestead</td>\n",
       "      <td>PA</td>\n",
       "      <td>15120</td>\n",
       "      <td>ALLEGHENY</td>\n",
       "      <td>-79.908386</td>\n",
       "      <td>40.408356</td>\n",
       "      <td>244544</td>\n",
       "    </tr>\n",
       "    <tr>\n",
       "      <th>925</th>\n",
       "      <td>-79.912804</td>\n",
       "      <td>40.405575</td>\n",
       "      <td>WALGREENS 09674</td>\n",
       "      <td>133 W 8th Ave</td>\n",
       "      <td>NaN</td>\n",
       "      <td>Homestead</td>\n",
       "      <td>PA</td>\n",
       "      <td>15120</td>\n",
       "      <td>ALLEGHENY</td>\n",
       "      <td>-79.912804</td>\n",
       "      <td>40.405575</td>\n",
       "      <td>244545</td>\n",
       "    </tr>\n",
       "    <tr>\n",
       "      <th>926</th>\n",
       "      <td>-79.910011</td>\n",
       "      <td>40.412422</td>\n",
       "      <td>GIANT EAGLE 6379</td>\n",
       "      <td>420 Waterfront Dr E</td>\n",
       "      <td>NaN</td>\n",
       "      <td>Homestead</td>\n",
       "      <td>PA</td>\n",
       "      <td>15120</td>\n",
       "      <td>ALLEGHENY</td>\n",
       "      <td>-79.910011</td>\n",
       "      <td>40.412422</td>\n",
       "      <td>244546</td>\n",
       "    </tr>\n",
       "    <tr>\n",
       "      <th>927</th>\n",
       "      <td>-79.909271</td>\n",
       "      <td>40.388477</td>\n",
       "      <td>Coen Markets 1218</td>\n",
       "      <td>3439 W Run Rd</td>\n",
       "      <td>NaN</td>\n",
       "      <td>West Homestead</td>\n",
       "      <td>PA</td>\n",
       "      <td>15120</td>\n",
       "      <td>ALLEGHENY</td>\n",
       "      <td>-79.909271</td>\n",
       "      <td>40.388477</td>\n",
       "      <td>244547</td>\n",
       "    </tr>\n",
       "    <tr>\n",
       "      <th>928</th>\n",
       "      <td>-79.901901</td>\n",
       "      <td>40.409134</td>\n",
       "      <td>RITE AID 4682</td>\n",
       "      <td>100 William Marks Way</td>\n",
       "      <td>NaN</td>\n",
       "      <td>Munhall</td>\n",
       "      <td>PA</td>\n",
       "      <td>15120</td>\n",
       "      <td>ALLEGHENY</td>\n",
       "      <td>-79.901901</td>\n",
       "      <td>40.409134</td>\n",
       "      <td>244548</td>\n",
       "    </tr>\n",
       "  </tbody>\n",
       "</table>\n",
       "</div>"
      ],
      "text/plain": [
       "             X          Y            Store_Name                Address  \\\n",
       "924 -79.908386  40.408356  DOLLAR GENERAL  9694          325 E 8th Ave   \n",
       "925 -79.912804  40.405575       WALGREENS 09674          133 W 8th Ave   \n",
       "926 -79.910011  40.412422      GIANT EAGLE 6379    420 Waterfront Dr E   \n",
       "927 -79.909271  40.388477     Coen Markets 1218          3439 W Run Rd   \n",
       "928 -79.901901  40.409134         RITE AID 4682  100 William Marks Way   \n",
       "\n",
       "    Address_Line__2            City State   Zip5     County  Longitude  \\\n",
       "924             NaN       Homestead    PA  15120  ALLEGHENY -79.908386   \n",
       "925             NaN       Homestead    PA  15120  ALLEGHENY -79.912804   \n",
       "926             NaN       Homestead    PA  15120  ALLEGHENY -79.910011   \n",
       "927             NaN  West Homestead    PA  15120  ALLEGHENY -79.909271   \n",
       "928             NaN         Munhall    PA  15120  ALLEGHENY -79.901901   \n",
       "\n",
       "      Latitude  ObjectId  \n",
       "924  40.408356    244544  \n",
       "925  40.405575    244545  \n",
       "926  40.412422    244546  \n",
       "927  40.388477    244547  \n",
       "928  40.409134    244548  "
      ]
     },
     "execution_count": 21,
     "metadata": {},
     "output_type": "execute_result"
    }
   ],
   "source": [
    "snap_stores = pd.read_csv('SNAP_Store_Locations.csv')\n",
    "snap_stores.tail()"
   ]
  },
  {
   "cell_type": "code",
   "execution_count": 22,
   "metadata": {},
   "outputs": [
    {
     "data": {
      "text/plain": [
       "(929, 12)"
      ]
     },
     "execution_count": 22,
     "metadata": {},
     "output_type": "execute_result"
    }
   ],
   "source": [
    "snap_stores.shape"
   ]
  },
  {
   "cell_type": "code",
   "execution_count": 23,
   "metadata": {},
   "outputs": [
    {
     "data": {
      "text/html": [
       "<div>\n",
       "<style scoped>\n",
       "    .dataframe tbody tr th:only-of-type {\n",
       "        vertical-align: middle;\n",
       "    }\n",
       "\n",
       "    .dataframe tbody tr th {\n",
       "        vertical-align: top;\n",
       "    }\n",
       "\n",
       "    .dataframe thead th {\n",
       "        text-align: right;\n",
       "    }\n",
       "</style>\n",
       "<table border=\"1\" class=\"dataframe\">\n",
       "  <thead>\n",
       "    <tr style=\"text-align: right;\">\n",
       "      <th></th>\n",
       "      <th>X</th>\n",
       "      <th>Y</th>\n",
       "      <th>Zip5</th>\n",
       "      <th>Longitude</th>\n",
       "      <th>Latitude</th>\n",
       "      <th>ObjectId</th>\n",
       "    </tr>\n",
       "  </thead>\n",
       "  <tbody>\n",
       "    <tr>\n",
       "      <th>count</th>\n",
       "      <td>929.000000</td>\n",
       "      <td>929.000000</td>\n",
       "      <td>929.000000</td>\n",
       "      <td>929.000000</td>\n",
       "      <td>929.000000</td>\n",
       "      <td>929.000000</td>\n",
       "    </tr>\n",
       "    <tr>\n",
       "      <th>mean</th>\n",
       "      <td>-79.955007</td>\n",
       "      <td>40.440113</td>\n",
       "      <td>15169.551130</td>\n",
       "      <td>-79.955007</td>\n",
       "      <td>40.440113</td>\n",
       "      <td>128150.062433</td>\n",
       "    </tr>\n",
       "    <tr>\n",
       "      <th>std</th>\n",
       "      <td>0.112884</td>\n",
       "      <td>0.076241</td>\n",
       "      <td>63.262536</td>\n",
       "      <td>0.112884</td>\n",
       "      <td>0.076241</td>\n",
       "      <td>73956.116266</td>\n",
       "    </tr>\n",
       "    <tr>\n",
       "      <th>min</th>\n",
       "      <td>-80.351875</td>\n",
       "      <td>40.264488</td>\n",
       "      <td>15014.000000</td>\n",
       "      <td>-80.351875</td>\n",
       "      <td>40.264488</td>\n",
       "      <td>350.000000</td>\n",
       "    </tr>\n",
       "    <tr>\n",
       "      <th>25%</th>\n",
       "      <td>-80.032509</td>\n",
       "      <td>40.387852</td>\n",
       "      <td>15122.000000</td>\n",
       "      <td>-80.032509</td>\n",
       "      <td>40.387852</td>\n",
       "      <td>65354.000000</td>\n",
       "    </tr>\n",
       "    <tr>\n",
       "      <th>50%</th>\n",
       "      <td>-79.958954</td>\n",
       "      <td>40.439213</td>\n",
       "      <td>15205.000000</td>\n",
       "      <td>-79.958954</td>\n",
       "      <td>40.439213</td>\n",
       "      <td>126322.000000</td>\n",
       "    </tr>\n",
       "    <tr>\n",
       "      <th>75%</th>\n",
       "      <td>-79.876122</td>\n",
       "      <td>40.478672</td>\n",
       "      <td>15221.000000</td>\n",
       "      <td>-79.876122</td>\n",
       "      <td>40.478672</td>\n",
       "      <td>192277.000000</td>\n",
       "    </tr>\n",
       "    <tr>\n",
       "      <th>max</th>\n",
       "      <td>-79.705376</td>\n",
       "      <td>40.659119</td>\n",
       "      <td>15275.000000</td>\n",
       "      <td>-79.705376</td>\n",
       "      <td>40.659119</td>\n",
       "      <td>244548.000000</td>\n",
       "    </tr>\n",
       "  </tbody>\n",
       "</table>\n",
       "</div>"
      ],
      "text/plain": [
       "                X           Y          Zip5   Longitude    Latitude  \\\n",
       "count  929.000000  929.000000    929.000000  929.000000  929.000000   \n",
       "mean   -79.955007   40.440113  15169.551130  -79.955007   40.440113   \n",
       "std      0.112884    0.076241     63.262536    0.112884    0.076241   \n",
       "min    -80.351875   40.264488  15014.000000  -80.351875   40.264488   \n",
       "25%    -80.032509   40.387852  15122.000000  -80.032509   40.387852   \n",
       "50%    -79.958954   40.439213  15205.000000  -79.958954   40.439213   \n",
       "75%    -79.876122   40.478672  15221.000000  -79.876122   40.478672   \n",
       "max    -79.705376   40.659119  15275.000000  -79.705376   40.659119   \n",
       "\n",
       "            ObjectId  \n",
       "count     929.000000  \n",
       "mean   128150.062433  \n",
       "std     73956.116266  \n",
       "min       350.000000  \n",
       "25%     65354.000000  \n",
       "50%    126322.000000  \n",
       "75%    192277.000000  \n",
       "max    244548.000000  "
      ]
     },
     "execution_count": 23,
     "metadata": {},
     "output_type": "execute_result"
    }
   ],
   "source": [
    "snap_stores.describe()"
   ]
  },
  {
   "cell_type": "code",
   "execution_count": 24,
   "metadata": {},
   "outputs": [
    {
     "name": "stdout",
     "output_type": "stream",
     "text": [
      "<class 'pandas.core.frame.DataFrame'>\n",
      "RangeIndex: 929 entries, 0 to 928\n",
      "Data columns (total 12 columns):\n",
      " #   Column           Non-Null Count  Dtype  \n",
      "---  ------           --------------  -----  \n",
      " 0   X                929 non-null    float64\n",
      " 1   Y                929 non-null    float64\n",
      " 2   Store_Name       929 non-null    object \n",
      " 3   Address          929 non-null    object \n",
      " 4   Address_Line__2  34 non-null     object \n",
      " 5   City             929 non-null    object \n",
      " 6   State            929 non-null    object \n",
      " 7   Zip5             929 non-null    int64  \n",
      " 8   County           929 non-null    object \n",
      " 9   Longitude        929 non-null    float64\n",
      " 10  Latitude         929 non-null    float64\n",
      " 11  ObjectId         929 non-null    int64  \n",
      "dtypes: float64(4), int64(2), object(6)\n",
      "memory usage: 87.2+ KB\n",
      "None\n"
     ]
    }
   ],
   "source": [
    "print(snap_stores.info())"
   ]
  },
  {
   "attachments": {},
   "cell_type": "markdown",
   "metadata": {},
   "source": [
    "The first dataset on SNAP stores have 929 observations where each row is a unique Store location and 9 columns that include the latitude, longitude, store name, address, city, state, zip code, county, and unique identifier."
   ]
  },
  {
   "cell_type": "code",
   "execution_count": 25,
   "metadata": {},
   "outputs": [
    {
     "data": {
      "text/html": [
       "<div>\n",
       "<style scoped>\n",
       "    .dataframe tbody tr th:only-of-type {\n",
       "        vertical-align: middle;\n",
       "    }\n",
       "\n",
       "    .dataframe tbody tr th {\n",
       "        vertical-align: top;\n",
       "    }\n",
       "\n",
       "    .dataframe thead th {\n",
       "        text-align: right;\n",
       "    }\n",
       "</style>\n",
       "<table border=\"1\" class=\"dataframe\">\n",
       "  <thead>\n",
       "    <tr style=\"text-align: right;\">\n",
       "      <th></th>\n",
       "      <th>name</th>\n",
       "      <th>street_address</th>\n",
       "      <th>city</th>\n",
       "      <th>state</th>\n",
       "      <th>zip_code</th>\n",
       "      <th>latitude</th>\n",
       "      <th>longitude</th>\n",
       "      <th>localizability</th>\n",
       "      <th>data_source_name</th>\n",
       "      <th>data_source_url</th>\n",
       "      <th>primary_key_from_rocket</th>\n",
       "      <th>asset_type</th>\n",
       "    </tr>\n",
       "  </thead>\n",
       "  <tbody>\n",
       "    <tr>\n",
       "      <th>0</th>\n",
       "      <td>Kuhn's Market</td>\n",
       "      <td>661 Lincoln Ave</td>\n",
       "      <td>Pittsburgh</td>\n",
       "      <td>PA</td>\n",
       "      <td>15202</td>\n",
       "      <td>40.497162</td>\n",
       "      <td>-80.060279</td>\n",
       "      <td>fixed</td>\n",
       "      <td>WPRDC Dataset: Allegheny County Restaurant/Foo...</td>\n",
       "      <td>https://data.wprdc.org/dataset/allegheny-count...</td>\n",
       "      <td>36519</td>\n",
       "      <td>supermarkets</td>\n",
       "    </tr>\n",
       "    <tr>\n",
       "      <th>1</th>\n",
       "      <td>Food Shoppe</td>\n",
       "      <td>5878 Northumberland  Street</td>\n",
       "      <td>Pittsburgh</td>\n",
       "      <td>PA</td>\n",
       "      <td>15217</td>\n",
       "      <td>40.441561</td>\n",
       "      <td>-79.920536</td>\n",
       "      <td>fixed</td>\n",
       "      <td>WPRDC Dataset: Allegheny County Restaurant/Foo...</td>\n",
       "      <td>https://data.wprdc.org/dataset/allegheny-count...</td>\n",
       "      <td>36498</td>\n",
       "      <td>supermarkets</td>\n",
       "    </tr>\n",
       "    <tr>\n",
       "      <th>2</th>\n",
       "      <td>Shop 'n Save / Shaler</td>\n",
       "      <td>1620 Babcock  Boulevard</td>\n",
       "      <td>Pittsburgh</td>\n",
       "      <td>PA</td>\n",
       "      <td>15209</td>\n",
       "      <td>40.499147</td>\n",
       "      <td>-79.978901</td>\n",
       "      <td>fixed</td>\n",
       "      <td>WPRDC Dataset: Allegheny County Restaurant/Foo...</td>\n",
       "      <td>https://data.wprdc.org/dataset/allegheny-count...</td>\n",
       "      <td>32725</td>\n",
       "      <td>supermarkets</td>\n",
       "    </tr>\n",
       "    <tr>\n",
       "      <th>3</th>\n",
       "      <td>Giant Eagle #61</td>\n",
       "      <td>2021 Wharton  Street</td>\n",
       "      <td>Pittsburgh</td>\n",
       "      <td>PA</td>\n",
       "      <td>15203</td>\n",
       "      <td>40.431132</td>\n",
       "      <td>-79.976607</td>\n",
       "      <td>fixed</td>\n",
       "      <td>WPRDC Dataset: Allegheny County Restaurant/Foo...</td>\n",
       "      <td>https://data.wprdc.org/dataset/allegheny-count...</td>\n",
       "      <td>38879</td>\n",
       "      <td>supermarkets</td>\n",
       "    </tr>\n",
       "    <tr>\n",
       "      <th>4</th>\n",
       "      <td>Safrans Market</td>\n",
       "      <td>429 Walnut Street</td>\n",
       "      <td>Sewickley</td>\n",
       "      <td>PA</td>\n",
       "      <td>15143</td>\n",
       "      <td>40.541039</td>\n",
       "      <td>-80.182262</td>\n",
       "      <td>fixed</td>\n",
       "      <td>WPRDC Dataset: Allegheny County Restaurant/Foo...</td>\n",
       "      <td>https://data.wprdc.org/dataset/allegheny-count...</td>\n",
       "      <td>30265</td>\n",
       "      <td>supermarkets</td>\n",
       "    </tr>\n",
       "  </tbody>\n",
       "</table>\n",
       "</div>"
      ],
      "text/plain": [
       "                    name               street_address        city state  \\\n",
       "0          Kuhn's Market              661 Lincoln Ave  Pittsburgh    PA   \n",
       "1            Food Shoppe  5878 Northumberland  Street  Pittsburgh    PA   \n",
       "2  Shop 'n Save / Shaler      1620 Babcock  Boulevard  Pittsburgh    PA   \n",
       "3        Giant Eagle #61         2021 Wharton  Street  Pittsburgh    PA   \n",
       "4         Safrans Market            429 Walnut Street   Sewickley    PA   \n",
       "\n",
       "   zip_code   latitude  longitude localizability  \\\n",
       "0     15202  40.497162 -80.060279          fixed   \n",
       "1     15217  40.441561 -79.920536          fixed   \n",
       "2     15209  40.499147 -79.978901          fixed   \n",
       "3     15203  40.431132 -79.976607          fixed   \n",
       "4     15143  40.541039 -80.182262          fixed   \n",
       "\n",
       "                                    data_source_name  \\\n",
       "0  WPRDC Dataset: Allegheny County Restaurant/Foo...   \n",
       "1  WPRDC Dataset: Allegheny County Restaurant/Foo...   \n",
       "2  WPRDC Dataset: Allegheny County Restaurant/Foo...   \n",
       "3  WPRDC Dataset: Allegheny County Restaurant/Foo...   \n",
       "4  WPRDC Dataset: Allegheny County Restaurant/Foo...   \n",
       "\n",
       "                                     data_source_url  primary_key_from_rocket  \\\n",
       "0  https://data.wprdc.org/dataset/allegheny-count...                    36519   \n",
       "1  https://data.wprdc.org/dataset/allegheny-count...                    36498   \n",
       "2  https://data.wprdc.org/dataset/allegheny-count...                    32725   \n",
       "3  https://data.wprdc.org/dataset/allegheny-count...                    38879   \n",
       "4  https://data.wprdc.org/dataset/allegheny-count...                    30265   \n",
       "\n",
       "     asset_type  \n",
       "0  supermarkets  \n",
       "1  supermarkets  \n",
       "2  supermarkets  \n",
       "3  supermarkets  \n",
       "4  supermarkets  "
      ]
     },
     "execution_count": 25,
     "metadata": {},
     "output_type": "execute_result"
    }
   ],
   "source": [
    "pgh_stores = pd.read_csv('PGH_supermarkets.csv')\n",
    "pgh_stores.head()"
   ]
  },
  {
   "cell_type": "code",
   "execution_count": 26,
   "metadata": {},
   "outputs": [
    {
     "data": {
      "text/plain": [
       "(133, 12)"
      ]
     },
     "execution_count": 26,
     "metadata": {},
     "output_type": "execute_result"
    }
   ],
   "source": [
    "pgh_stores.shape"
   ]
  },
  {
   "cell_type": "code",
   "execution_count": 27,
   "metadata": {},
   "outputs": [
    {
     "data": {
      "text/plain": [
       "Index(['name', 'street_address', 'city', 'state', 'zip_code', 'latitude',\n",
       "       'longitude', 'localizability', 'data_source_name', 'data_source_url',\n",
       "       'primary_key_from_rocket', 'asset_type'],\n",
       "      dtype='object')"
      ]
     },
     "execution_count": 27,
     "metadata": {},
     "output_type": "execute_result"
    }
   ],
   "source": [
    "pgh_stores.columns"
   ]
  },
  {
   "cell_type": "code",
   "execution_count": 28,
   "metadata": {},
   "outputs": [
    {
     "name": "stdout",
     "output_type": "stream",
     "text": [
      "<class 'pandas.core.frame.DataFrame'>\n",
      "RangeIndex: 133 entries, 0 to 132\n",
      "Data columns (total 12 columns):\n",
      " #   Column                   Non-Null Count  Dtype  \n",
      "---  ------                   --------------  -----  \n",
      " 0   name                     133 non-null    object \n",
      " 1   street_address           133 non-null    object \n",
      " 2   city                     133 non-null    object \n",
      " 3   state                    133 non-null    object \n",
      " 4   zip_code                 133 non-null    int64  \n",
      " 5   latitude                 115 non-null    float64\n",
      " 6   longitude                115 non-null    float64\n",
      " 7   localizability           133 non-null    object \n",
      " 8   data_source_name         133 non-null    object \n",
      " 9   data_source_url          133 non-null    object \n",
      " 10  primary_key_from_rocket  133 non-null    int64  \n",
      " 11  asset_type               133 non-null    object \n",
      "dtypes: float64(2), int64(2), object(8)\n",
      "memory usage: 12.6+ KB\n"
     ]
    }
   ],
   "source": [
    "pgh_stores.info()"
   ]
  },
  {
   "cell_type": "code",
   "execution_count": 29,
   "metadata": {},
   "outputs": [
    {
     "data": {
      "text/html": [
       "<div>\n",
       "<style scoped>\n",
       "    .dataframe tbody tr th:only-of-type {\n",
       "        vertical-align: middle;\n",
       "    }\n",
       "\n",
       "    .dataframe tbody tr th {\n",
       "        vertical-align: top;\n",
       "    }\n",
       "\n",
       "    .dataframe thead th {\n",
       "        text-align: right;\n",
       "    }\n",
       "</style>\n",
       "<table border=\"1\" class=\"dataframe\">\n",
       "  <thead>\n",
       "    <tr style=\"text-align: right;\">\n",
       "      <th></th>\n",
       "      <th>zip_code</th>\n",
       "      <th>latitude</th>\n",
       "      <th>longitude</th>\n",
       "      <th>primary_key_from_rocket</th>\n",
       "    </tr>\n",
       "  </thead>\n",
       "  <tbody>\n",
       "    <tr>\n",
       "      <th>count</th>\n",
       "      <td>133.000000</td>\n",
       "      <td>115.000000</td>\n",
       "      <td>115.000000</td>\n",
       "      <td>1.330000e+02</td>\n",
       "    </tr>\n",
       "    <tr>\n",
       "      <th>mean</th>\n",
       "      <td>15170.481203</td>\n",
       "      <td>40.446749</td>\n",
       "      <td>-79.964689</td>\n",
       "      <td>1.178357e+11</td>\n",
       "    </tr>\n",
       "    <tr>\n",
       "      <th>std</th>\n",
       "      <td>63.718557</td>\n",
       "      <td>0.082790</td>\n",
       "      <td>0.118007</td>\n",
       "      <td>9.932383e+10</td>\n",
       "    </tr>\n",
       "    <tr>\n",
       "      <th>min</th>\n",
       "      <td>15017.000000</td>\n",
       "      <td>40.279924</td>\n",
       "      <td>-80.241229</td>\n",
       "      <td>2.530000e+02</td>\n",
       "    </tr>\n",
       "    <tr>\n",
       "      <th>25%</th>\n",
       "      <td>15122.000000</td>\n",
       "      <td>40.382869</td>\n",
       "      <td>-80.045006</td>\n",
       "      <td>4.241200e+04</td>\n",
       "    </tr>\n",
       "    <tr>\n",
       "      <th>50%</th>\n",
       "      <td>15205.000000</td>\n",
       "      <td>40.441638</td>\n",
       "      <td>-79.964915</td>\n",
       "      <td>2.003082e+11</td>\n",
       "    </tr>\n",
       "    <tr>\n",
       "      <th>75%</th>\n",
       "      <td>15224.000000</td>\n",
       "      <td>40.493213</td>\n",
       "      <td>-79.874512</td>\n",
       "      <td>2.011022e+11</td>\n",
       "    </tr>\n",
       "    <tr>\n",
       "      <th>max</th>\n",
       "      <td>15275.000000</td>\n",
       "      <td>40.650507</td>\n",
       "      <td>-79.704765</td>\n",
       "      <td>2.019061e+11</td>\n",
       "    </tr>\n",
       "  </tbody>\n",
       "</table>\n",
       "</div>"
      ],
      "text/plain": [
       "           zip_code    latitude   longitude  primary_key_from_rocket\n",
       "count    133.000000  115.000000  115.000000             1.330000e+02\n",
       "mean   15170.481203   40.446749  -79.964689             1.178357e+11\n",
       "std       63.718557    0.082790    0.118007             9.932383e+10\n",
       "min    15017.000000   40.279924  -80.241229             2.530000e+02\n",
       "25%    15122.000000   40.382869  -80.045006             4.241200e+04\n",
       "50%    15205.000000   40.441638  -79.964915             2.003082e+11\n",
       "75%    15224.000000   40.493213  -79.874512             2.011022e+11\n",
       "max    15275.000000   40.650507  -79.704765             2.019061e+11"
      ]
     },
     "execution_count": 29,
     "metadata": {},
     "output_type": "execute_result"
    }
   ],
   "source": [
    "pgh_stores.describe()"
   ]
  },
  {
   "attachments": {},
   "cell_type": "markdown",
   "metadata": {},
   "source": [
    "The second dataset on grocery stores in Pittsburgh has 133 observations where each row is a unique store location and 12 columns including store name, address, city, state, zip code, latitude, longitude, localizability, data source, data source url, primary key, and asset type (type of store)."
   ]
  },
  {
   "cell_type": "code",
   "execution_count": 30,
   "metadata": {},
   "outputs": [],
   "source": [
    "# snap_stores.drop(columns=['Match'],inplace=True)"
   ]
  },
  {
   "cell_type": "code",
   "execution_count": 31,
   "metadata": {},
   "outputs": [],
   "source": [
    "# values = set(pgh_stores['name'].lower())\n",
    "\n",
    "# snap_stores['Match'] = snap_stores['Store_Name'].lower().isin(values)\n",
    "# snap_stores['Match'].value_counts()\n",
    "\n",
    "\n",
    "#create new columns with all lower case store names in both datasets\n",
    "snap_stores['store_snap'] = snap_stores['Store_Name'].str.lower()\n",
    "pgh_stores['store_pgh'] = pgh_stores['name'].str.lower()"
   ]
  },
  {
   "cell_type": "code",
   "execution_count": 32,
   "metadata": {},
   "outputs": [
    {
     "data": {
      "text/plain": [
       "123"
      ]
     },
     "execution_count": 32,
     "metadata": {},
     "output_type": "execute_result"
    }
   ],
   "source": [
    "#find total unique stores in pittsburgh\n",
    "pgh_stores_list = set(list(pgh_stores.store_pgh))\n",
    "len(pgh_stores_list)"
   ]
  },
  {
   "cell_type": "code",
   "execution_count": 33,
   "metadata": {},
   "outputs": [
    {
     "data": {
      "text/plain": [
       "False    121\n",
       "True      12\n",
       "Name: store_pgh_snap, dtype: int64"
      ]
     },
     "execution_count": 33,
     "metadata": {},
     "output_type": "execute_result"
    }
   ],
   "source": [
    "#snap_stores['store_snap'].value_counts()\n",
    "\n",
    "#find out how many pittsburgh stores are in snap stores df\n",
    "pgh_stores['store_pgh_snap'] = pgh_stores['store_pgh'].isin(set(snap_stores['store_snap']))\n",
    "pgh_stores['store_pgh_snap'].value_counts() \n",
    "\n",
    "#there are 12 stores in pittsburgh that are in snap stores df - these don't add up to 123 because there are duplicates (one store - multiple locations)"
   ]
  },
  {
   "cell_type": "code",
   "execution_count": 34,
   "metadata": {},
   "outputs": [],
   "source": [
    "# #df of pittsburgh stores in snap stores\n",
    "# pgh_stores[pgh_stores['store_pgh_snap'] == True]"
   ]
  },
  {
   "cell_type": "code",
   "execution_count": 35,
   "metadata": {},
   "outputs": [
    {
     "name": "stderr",
     "output_type": "stream",
     "text": [
      "C:\\Users\\mahru\\AppData\\Local\\Temp\\ipykernel_21392\\2550447277.py:5: FutureWarning: In a future version of pandas all arguments of DataFrame.drop except for the argument 'labels' will be keyword-only.\n",
      "  pgh_stores_notsnap.drop(pgh_stores.columns.difference(['store_pgh']), 1, inplace=True)\n",
      "C:\\Users\\mahru\\AppData\\Local\\Temp\\ipykernel_21392\\2550447277.py:5: SettingWithCopyWarning: \n",
      "A value is trying to be set on a copy of a slice from a DataFrame\n",
      "\n",
      "See the caveats in the documentation: https://pandas.pydata.org/pandas-docs/stable/user_guide/indexing.html#returning-a-view-versus-a-copy\n",
      "  pgh_stores_notsnap.drop(pgh_stores.columns.difference(['store_pgh']), 1, inplace=True)\n"
     ]
    }
   ],
   "source": [
    "#pgh_stores[pgh_stores['store_pgh_snap'] == 1]\n",
    "\n",
    "#generate list of pgh stores that are NOT snap\n",
    "pgh_stores_notsnap = pgh_stores[pgh_stores['store_pgh_snap'] == 0]\n",
    "pgh_stores_notsnap.drop(pgh_stores.columns.difference(['store_pgh']), 1, inplace=True)"
   ]
  },
  {
   "cell_type": "code",
   "execution_count": 36,
   "metadata": {},
   "outputs": [
    {
     "data": {
      "text/plain": [
       "116"
      ]
     },
     "execution_count": 36,
     "metadata": {},
     "output_type": "execute_result"
    }
   ],
   "source": [
    "#create a list of above, convert to set to get unique stores in pittsburgh that are not SNAP\n",
    "pgh_stores_notsnap_list = set(list(pgh_stores_notsnap.store_pgh))\n",
    "len(pgh_stores_notsnap_list)"
   ]
  },
  {
   "cell_type": "code",
   "execution_count": 37,
   "metadata": {},
   "outputs": [
    {
     "name": "stderr",
     "output_type": "stream",
     "text": [
      "C:\\Users\\mahru\\AppData\\Local\\Temp\\ipykernel_21392\\3370884206.py:2: FutureWarning: In a future version of pandas all arguments of DataFrame.drop except for the argument 'labels' will be keyword-only.\n",
      "  snap_stores.drop(snap_stores.columns.difference(['store_snap']), 1, inplace=True)\n"
     ]
    },
    {
     "data": {
      "text/plain": [
       "917"
      ]
     },
     "execution_count": 37,
     "metadata": {},
     "output_type": "execute_result"
    }
   ],
   "source": [
    "#get a list of unique snap stores\n",
    "snap_stores.drop(snap_stores.columns.difference(['store_snap']), 1, inplace=True)\n",
    "snap_stores_list = set(list(snap_stores.store_snap))\n",
    "len(snap_stores_list)"
   ]
  }
 ],
 "metadata": {
  "kernelspec": {
   "display_name": "base",
   "language": "python",
   "name": "python3"
  },
  "language_info": {
   "codemirror_mode": {
    "name": "ipython",
    "version": 3
   },
   "file_extension": ".py",
   "mimetype": "text/x-python",
   "name": "python",
   "nbconvert_exporter": "python",
   "pygments_lexer": "ipython3",
   "version": "3.9.13"
  },
  "orig_nbformat": 4
 },
 "nbformat": 4,
 "nbformat_minor": 2
}
