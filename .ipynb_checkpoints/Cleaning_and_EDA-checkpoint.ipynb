{
 "cells": [
  {
   "cell_type": "markdown",
   "id": "4c8fb444",
   "metadata": {},
   "source": [
    "# Managing Analytic Projects\n",
    "\n",
    "## Data Cleaning and Visualizations\n",
    "\n",
    "Hiba Hassan, Mahrukh, Kele, Lily, Amelia Janaskie"
   ]
  },
  {
   "cell_type": "code",
   "execution_count": 1,
   "id": "d2dd940e",
   "metadata": {},
   "outputs": [],
   "source": [
    "import pandas as pd"
   ]
  },
  {
   "cell_type": "code",
   "execution_count": 2,
   "id": "e900637a",
   "metadata": {
    "scrolled": true
   },
   "outputs": [
    {
     "data": {
      "text/html": [
       "<div>\n",
       "<style scoped>\n",
       "    .dataframe tbody tr th:only-of-type {\n",
       "        vertical-align: middle;\n",
       "    }\n",
       "\n",
       "    .dataframe tbody tr th {\n",
       "        vertical-align: top;\n",
       "    }\n",
       "\n",
       "    .dataframe thead th {\n",
       "        text-align: right;\n",
       "    }\n",
       "</style>\n",
       "<table border=\"1\" class=\"dataframe\">\n",
       "  <thead>\n",
       "    <tr style=\"text-align: right;\">\n",
       "      <th></th>\n",
       "      <th>Geography</th>\n",
       "      <th>Geographic Area Name</th>\n",
       "      <th>SNAP</th>\n",
       "    </tr>\n",
       "  </thead>\n",
       "  <tbody>\n",
       "    <tr>\n",
       "      <th>0</th>\n",
       "      <td>42003010301</td>\n",
       "      <td>Census Tract 103.01, Allegheny County, Pennsyl...</td>\n",
       "      <td>0</td>\n",
       "    </tr>\n",
       "    <tr>\n",
       "      <th>1</th>\n",
       "      <td>42003010302</td>\n",
       "      <td>Census Tract 103.02, Allegheny County, Pennsyl...</td>\n",
       "      <td>91</td>\n",
       "    </tr>\n",
       "    <tr>\n",
       "      <th>2</th>\n",
       "      <td>42003020100</td>\n",
       "      <td>Census Tract 201, Allegheny County, Pennsylvania</td>\n",
       "      <td>92</td>\n",
       "    </tr>\n",
       "    <tr>\n",
       "      <th>3</th>\n",
       "      <td>42003020300</td>\n",
       "      <td>Census Tract 203, Allegheny County, Pennsylvania</td>\n",
       "      <td>0</td>\n",
       "    </tr>\n",
       "    <tr>\n",
       "      <th>4</th>\n",
       "      <td>42003030500</td>\n",
       "      <td>Census Tract 305, Allegheny County, Pennsylvania</td>\n",
       "      <td>424</td>\n",
       "    </tr>\n",
       "  </tbody>\n",
       "</table>\n",
       "</div>"
      ],
      "text/plain": [
       "     Geography                               Geographic Area Name  SNAP\n",
       "0  42003010301  Census Tract 103.01, Allegheny County, Pennsyl...     0\n",
       "1  42003010302  Census Tract 103.02, Allegheny County, Pennsyl...    91\n",
       "2  42003020100   Census Tract 201, Allegheny County, Pennsylvania    92\n",
       "3  42003020300   Census Tract 203, Allegheny County, Pennsylvania     0\n",
       "4  42003030500   Census Tract 305, Allegheny County, Pennsylvania   424"
      ]
     },
     "execution_count": 2,
     "metadata": {},
     "output_type": "execute_result"
    }
   ],
   "source": [
    "snap_eligible = pd.read_csv('SNAP Eligible.csv')\n",
    "snap_eligible.head()"
   ]
  },
  {
   "cell_type": "code",
   "execution_count": null,
   "id": "a7c20419",
   "metadata": {},
   "outputs": [],
   "source": []
  }
 ],
 "metadata": {
  "kernelspec": {
   "display_name": "Python 3 (ipykernel)",
   "language": "python",
   "name": "python3"
  },
  "language_info": {
   "codemirror_mode": {
    "name": "ipython",
    "version": 3
   },
   "file_extension": ".py",
   "mimetype": "text/x-python",
   "name": "python",
   "nbconvert_exporter": "python",
   "pygments_lexer": "ipython3",
   "version": "3.9.12"
  }
 },
 "nbformat": 4,
 "nbformat_minor": 5
}
